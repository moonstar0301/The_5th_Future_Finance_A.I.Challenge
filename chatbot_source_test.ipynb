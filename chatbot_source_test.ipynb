{
  "cells": [
    {
      "cell_type": "code",
      "execution_count": 3,
      "metadata": {
        "id": "_pleQMN3Pmuv"
      },
      "outputs": [],
      "source": [
        "import os\n",
        "os.environ[\"OPENAI_API_KEY\"] = 'your_api_key'"
      ]
    },
    {
      "cell_type": "code",
      "execution_count": 35,
      "metadata": {
        "id": "HcVaOdWYPmw7"
      },
      "outputs": [],
      "source": [
        "from langchain.vectorstores import Chroma, ElasticKnnSearch\n",
        "from langchain.embeddings import OpenAIEmbeddings, cohere as ce\n",
        "from langchain.text_splitter import (\n",
        "    RecursiveCharacterTextSplitter, CharacterTextSplitter\n",
        ")\n",
        "from langchain.llms import OpenAI\n",
        "from langchain.chains import RetrievalQA, ConversationChain\n",
        "from langchain.document_loaders import (\n",
        "    TextLoader, DirectoryLoader, PyPDFLoader\n",
        ")\n",
        "from langchain.prompts import (\n",
        "    PromptTemplate, SystemMessagePromptTemplate, ChatPromptTemplate\n",
        ")\n",
        "from langchain.chat_models import ChatOpenAI\n",
        "from langchain.memory import (\n",
        "    ChatMessageHistory, ConversationBufferMemory, ConversationBufferWindowMemory\n",
        ")\n"
      ]
    },
    {
      "cell_type": "code",
      "execution_count": 36,
      "metadata": {
        "id": "O38X7EYyPmzh"
      },
      "outputs": [],
      "source": [
        "# PyPDFLoader를 사용하여 'investment.pdf' 파일을 로드합니다.\n",
        "loader = PyPDFLoader('/content/drive/MyDrive/investment.pdf')\n",
        "# 로더를 사용하여 PDF 파일의 내용을 documents 변수에 로드합니다.\n",
        "documents = loader.load()\n",
        "# 'CharacterTextSplitter'를 사용하여 텍스트를 크기 1000의 청크로 분할합니다. 청크 간의 겹침은 없습니다.\n",
        "text_splitter = CharacterTextSplitter(chunk_size = 1000, chunk_overlap = 0)\n",
        "# 분할자를 사용하여 'documents'를 청크로 분할하고 결과를 texts 변수에 저장합니다.\n",
        "texts = text_splitter.split_documents(documents)"
      ]
    },
    {
      "cell_type": "code",
      "execution_count": 7,
      "metadata": {
        "id": "9cuOBOULRoiz"
      },
      "outputs": [],
      "source": [
        "#벡터 데이터베이스가 저장될 디렉토리의 이름을 변수에 저장합니다.\n",
        "persist_directory = 'db'\n",
        "# 텍스트 문서의 임베딩을 생성하는데 사용할 모델을 변수에 할당합니다.\n",
        "embedding = OpenAIEmbeddings()\n",
        "# Chroma 클래스의 'from_documents' 메서드를 호출하여 문서의 임베딩을 생성하고 벡터데이터 베이스를 초기화합니다.\n",
        "vectordb = Chroma.from_documents(\n",
        "    documents=documents,\n",
        "    embedding=embedding,\n",
        "    persist_directory=persist_directory)"
      ]
    },
    {
      "cell_type": "code",
      "execution_count": 37,
      "metadata": {
        "id": "aVdWRzH0Rok8"
      },
      "outputs": [],
      "source": [
        "# persist 메서드를 호출하여 'vectordb'에서 생성된 벡터 데이터베이스를 디스크에 저장합니다.\n",
        "# 이렇게 하면 나중에 데이터베이스를 다시 로드하여 사용할 수 있습니다.\n",
        "vectordb.persist()\n",
        "# 메모리에서 데이터베이스를 제거합니다.\n",
        "vectordb = None\n",
        "# Chroma 클래스를 인스턴스화하여 vectordb 변수에 할당합니다. 문서의 임베딩을 저장하고 검색하는데 사용됩니다.\n",
        "vectordb = Chroma(\n",
        "    persist_directory=persist_directory,\n",
        "    embedding_function=embedding)"
      ]
    },
    {
      "cell_type": "code",
      "execution_count": 9,
      "metadata": {
        "colab": {
          "base_uri": "https://localhost:8080/"
        },
        "id": "qa93LUpRRonC",
        "outputId": "9fbf0ded-6310-4d7b-e4da-70f5c63daec8"
      },
      "outputs": [
        {
          "output_type": "stream",
          "name": "stdout",
          "text": [
            "0\n",
            "1\n",
            "24\n",
            "71\n"
          ]
        }
      ],
      "source": [
        "# 'as_retriever'메서드를 호출하여 'vectordb'에서 생성된 벡터 데이터베이스를 검색가능한 형태로 변환합니다.\n",
        "retriever = vectordb.as_retriever()\n",
        "# 질문과 관련된 문서를 검색합니다.(기본 k값은 4로 설정되어있어, 관련도가 높은 4개의 문서를 검색합니다.)\n",
        "docs = retriever.get_relevant_documents(\"디폴트 옵션이 뭐야?\")\n",
        "# 각 문서의 페이지 번호를 가져와 출력합니다.\n",
        "for doc in docs:\n",
        "    print(doc.metadata[\"page\"])"
      ]
    },
    {
      "cell_type": "code",
      "execution_count": 19,
      "metadata": {
        "id": "17utwycTuuCp"
      },
      "outputs": [],
      "source": [
        "# 프롬프트를 'prompt_template'변수에 저장합니다.\n",
        "prompt_template = \"\"\"Use the following pieces of context to answer the question at the end. If you don't know the answer, just say that you don't know, don't try to make up an answer.\n",
        "you are competent financial advisor.\n",
        "\n",
        "{context}\n",
        "\n",
        "Question: {question}\n",
        "\n",
        "Don't answer with short answers, answer with complete sentences.\n",
        "Answer in Korean:\"\"\"\n",
        "# PROMPT에 'context'와 'question'을 입력 변수로하는 프롬프트 템플릿을 저장합니다.\n",
        "PROMPT = PromptTemplate(\n",
        "    template=prompt_template, input_variables=[\"context\", \"question\"]\n",
        ")\n",
        "# 'chain_type_kwargs'변수에 딕셔너리를 할당합니다.\n",
        "chain_type_kwargs = {\"prompt\": PROMPT}"
      ]
    },
    {
      "cell_type": "code",
      "execution_count": 20,
      "metadata": {
        "id": "erFmJLbJRoq8"
      },
      "outputs": [],
      "source": [
        "# 'as_retriever'메서드를 호출하여 'vectordb'에서 생성된 벡터 데이터베이스를 검색 가능한 형태로 변환합니다.\n",
        "# 유사도가 높은 상위 3개의 문서만 반환하도록 지정합니다.\n",
        "retriever = vectordb.as_retriever(search_kwargs={\"k\": 3})\n",
        "# 'gpt-3.5-turbo-16k'모델을 사용합니다.\n",
        "# temperature값이 낮은수록 더 일관성 있는 문장이 생성됩니다.\n",
        "llm = ChatOpenAI(temperature=0.0,model_name='gpt-3.5-turbo-16k')\n",
        "\n",
        "# 체인타입을 결정합니다.\n",
        "qa_chain = RetrievalQA.from_chain_type(\n",
        "    # 언어모델을 할당합니다.\n",
        "    llm=llm,\n",
        "    # 체인의 유형을 지정합니다.\n",
        "    chain_type=\"stuff\",\n",
        "    retriever=retriever,\n",
        "    # 응답과 함께 소스 문서를 반환합니다.\n",
        "    return_source_documents=True,\n",
        "    chain_type_kwargs=chain_type_kwargs)\n",
        "\n",
        "# 언어 모델의 응답을 처리하는 함수를 정의합니다.\n",
        "def process_llm_response(llm_response):\n",
        "    # 언어 모델의 응답 결과를 출력합니다.\n",
        "    print(llm_response['result'])\n",
        "    # 언어 모델 응답의 소스 문서 목록을 반환합니다.\n",
        "    print('\\n\\nSources:')\n",
        "    for source in llm_response[\"source_documents\"]:\n",
        "        print(source.metadata[\"page\"])"
      ]
    },
    {
      "cell_type": "code",
      "execution_count": 33,
      "metadata": {
        "colab": {
          "base_uri": "https://localhost:8080/"
        },
        "id": "7_YDUHNpRotL",
        "outputId": "4cd563e1-6bf0-4718-d773-c5e8e74da3db"
      },
      "outputs": [
        {
          "output_type": "stream",
          "name": "stdout",
          "text": [
            "23년 하반기에 경제가 좋아질지에 대해서는 확실한 답을 내리기 어렵습니다. 현재 경기 침체 가능성이 높아지고 있으며, 인플레이션과 미 연준의 통화정책 변화 등 여러 불확실성 요인이 존재합니다. 하지만 경기 침체의 폭과 기간이 과거와 비교해 상대적으로 낮을 것으로 전망되고 있으며, 미 연준의 긴축 강도가 완화될 가능성도 있습니다. 따라서 하반기부터는 경제의 회복 기대가 높아질 수 있습니다. 그러나 이는 예측이며, 실제 경제 상황에 따라 변동할 수 있습니다.\n",
            "\n",
            "\n",
            "Sources:\n",
            "11\n",
            "20\n",
            "30\n"
          ]
        }
      ],
      "source": [
        "query = \"23년 하반기는 경제가 좋아질까?\"\n",
        "llm_response = qa_chain(query)\n",
        "process_llm_response(llm_response)"
      ]
    },
    {
      "cell_type": "code",
      "source": [
        "query = \"23년 상반기는 어땠어?\" + \"이전 질문은 \" + query + \"이니깐 고려해서 답해줘\"\n",
        "llm_response = qa_chain(query)\n",
        "process_llm_response(llm_response)"
      ],
      "metadata": {
        "colab": {
          "base_uri": "https://localhost:8080/"
        },
        "id": "3bNM4K0iONLt",
        "outputId": "5e1b7462-abdd-4f5e-af0d-9457130ed8bb"
      },
      "execution_count": 34,
      "outputs": [
        {
          "output_type": "stream",
          "name": "stdout",
          "text": [
            "23년 상반기는 경제 여건이 부진한 상황이었습니다. 작년 4분기와 이번 해 1분기에는 경제성장률이 각각 -0.4%와 +0.3%로 역성장 및 미미한 성장을 기록했으며, 세계은행은 미국 경제성장률이 +0.5%로 예상했습니다. 또한, 글로벌 인플레이션과 금리도 높은 수준을 유지하고 있었습니다. 이로 인해 투자자들의 심리가 위축되었고, 주식시장에서는 손실을 보고 있는 사람들이 추가 투자를 꺼리는 상황이었습니다. 그러나 주요 주식시장은 상승세를 보였으며, 삼성전자와 SK하이닉스 등 일부 기업의 주가는 메모리 반도체 가격의 상승 전환 전망에 힘입어 상승했습니다. 따라서 23년 상반기는 경제가 좋지 않은 상황이었지만, 주식시장에서는 일부 기업의 주가가 상승하는 모습이 보였습니다.\n",
            "\n",
            "\n",
            "Sources:\n",
            "11\n",
            "30\n",
            "27\n"
          ]
        }
      ]
    },
    {
      "cell_type": "code",
      "source": [
        "query = \"니가 가지고 있는 데이터를 바탕으로 추천질문 하나 만들어줘\"\n",
        "llm_response = qa_chain(query)\n",
        "process_llm_response(llm_response)"
      ],
      "metadata": {
        "colab": {
          "base_uri": "https://localhost:8080/"
        },
        "id": "8yNLcYOhOeUK",
        "outputId": "a8c8dd5d-fd51-40bd-efb6-c1c84b6be7ff"
      },
      "execution_count": 29,
      "outputs": [
        {
          "output_type": "stream",
          "name": "stdout",
          "text": [
            "은퇴 후의 재정적인 안정을 위해 어떤 투자 전략을 추천하시겠습니까?\n",
            "\n",
            "\n",
            "Sources:\n",
            "37\n",
            "10\n",
            "21\n"
          ]
        }
      ]
    },
    {
      "cell_type": "code",
      "source": [
        "query = \"은퇴 후의 재정적인 안정을 위해 어떤 투자 전략을 추천하시겠습니까?\"\n",
        "llm_response = qa_chain(query)\n",
        "process_llm_response(llm_response)"
      ],
      "metadata": {
        "colab": {
          "base_uri": "https://localhost:8080/"
        },
        "id": "DFJiu6A2TGm0",
        "outputId": "fd014ebb-52c0-4e3c-efa3-b5fb127fa610"
      },
      "execution_count": 30,
      "outputs": [
        {
          "output_type": "stream",
          "name": "stdout",
          "text": [
            "은퇴 후의 재정적인 안정을 위해서는 변동성이 낮고 안정적인 수익을 창출할 수 있는 포트폴리오를 구성하는 것이 중요합니다. 주식과 채권과 같이 서로 다른 특징을 가진 자산을 적절히 배분하여 꾸준한 수익을 창출할 수 있는 전략을 추천합니다. 또한, 투자자의 기대 수익률과 시장 상황에 따라 포트폴리오의 구성을 조정하고, 적절한 자산 배분을 통해 안정적인 수익을 추구할 수 있습니다. 마켓 타이밍이나 종목 선정보다는 적절한 자산 배분이 투자 수익을 결정하는 가장 중요한 요소라고 생각합니다. 따라서, 현재의 투자 포트폴리오가 안정적인 수익을 창출할 수 있도록 구성되어 있는지 다시 살펴보는 것이 필요합니다.\n",
            "\n",
            "\n",
            "Sources:\n",
            "4\n",
            "38\n",
            "19\n"
          ]
        }
      ]
    },
    {
      "cell_type": "code",
      "source": [],
      "metadata": {
        "id": "9et9ml4ATJ3y"
      },
      "execution_count": null,
      "outputs": []
    }
  ],
  "metadata": {
    "colab": {
      "provenance": []
    },
    "kernelspec": {
      "display_name": "Python 3",
      "name": "python3"
    },
    "language_info": {
      "codemirror_mode": {
        "name": "ipython",
        "version": 3
      },
      "file_extension": ".py",
      "mimetype": "text/x-python",
      "name": "python",
      "nbconvert_exporter": "python",
      "pygments_lexer": "ipython3",
      "version": "3.11.4"
    }
  },
  "nbformat": 4,
  "nbformat_minor": 0
}