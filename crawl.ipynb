{
 "cells": [
  {
   "cell_type": "code",
   "execution_count": 1,
   "metadata": {},
   "outputs": [
    {
     "name": "stdout",
     "output_type": "stream",
     "text": [
      "50\n"
     ]
    }
   ],
   "source": [
    "from selenium import webdriver\n",
    "from selenium.webdriver.chrome.service import Service\n",
    "from selenium.webdriver.common.by import By\n",
    "from selenium.webdriver.chrome.options import Options\n",
    "from webdriver_manager.chrome import ChromeDriverManager\n",
    "import time\n",
    "\n",
    "# 크롬 드라이버 자동 업데이트\n",
    "chrome_driver_path = ChromeDriverManager().install()\n",
    "\n",
    "# Selenium 웹 드라이버 설정\n",
    "chrome_options = Options()\n",
    "chrome_options.add_argument(\"--headless\")  # 브라우저를 띄우지 않고 백그라운드에서 실행\n",
    "chrome_options.add_argument(\"--disable-gpu\")  # GPU 가속 비활성화\n",
    "\n",
    "service = Service(executable_path=chrome_driver_path)\n",
    "driver = webdriver.Chrome(service=service, options=chrome_options)\n",
    "real_estate = []\n",
    "# 1페이지부터 5페이지까지 반복\n",
    "for page_num in range(1, 6):\n",
    "    # 1. https://omoney.kbstar.com/quics?page=C042015&cc=b037806:b037806에 진입한다.\n",
    "    url = f\"https://omoney.kbstar.com/quics?page=C042015&cc=b037806:b037806&page={page_num}\"\n",
    "    driver.get(url)\n",
    "    \n",
    "    # 2. html에서 class=\"tbl_list\"안에서 href 목록을 구하는 코드\n",
    "    tbl_list = driver.find_element(By.CLASS_NAME, \"tbl_list\")\n",
    "    hrefs = [a.get_attribute(\"href\") for a in tbl_list.find_elements(By.TAG_NAME, \"a\")]\n",
    "\n",
    "    # 3. https://omoney.kbstar.com/에 href 목록들을 하나씩 붙여서 진입하며 id=\"view_cont\"안에 있는 텍스트들을 크롤링\n",
    "    for href in hrefs:\n",
    "        driver.get(href)\n",
    "        time.sleep(1)  # 페이지 로딩 대기\n",
    "        view_cont = driver.find_element(By.ID, \"view_cont\").text\n",
    "        #print(view_cont)\n",
    "        #print(\"=\" * 50)\n",
    "        real_estate.append(view_cont)\n",
    "        \n",
    "print(len(real_estate))\n",
    "driver.quit()"
   ]
  },
  {
   "cell_type": "code",
   "execution_count": 3,
   "metadata": {},
   "outputs": [
    {
     "name": "stdout",
     "output_type": "stream",
     "text": [
      "Q1. 낮은 점수로 청약 당첨이 가능하다고요?\n",
      "\n",
      "청약제도 개편으로 가점이 낮은 세대의 국민주택규모 이하 주택 청약 당첨 기회가 확대돼요.\n",
      "\n",
      "① 신규 아파트 공급 물량의 대부분을 차지하는 국민주택규모 이하 주택의 추첨 물량이 늘어나요. \n",
      "→ 가점이 높은 청약가입자의 당첨 기회는 상대적으로 감소해요.\n",
      "\n",
      " \n",
      "② 일반 분양 예정인 청담 르엘, 반포 원펜타스, 잠실 래미안아이파크, 잠실 르엘 등 재건축 공사중인 아파트의 \n",
      "국민주택규모 이하 아파트는 추첨제 적용으로 가점이 낮은 1주택자 당첨 기회가 확대돼요.\n",
      "\n",
      "③ 1주택자의 갈아타기 수요가 꾸준한 국민주택규모 초과 주택의 추첨제 물량 감소로 큰 면적으로 이사 수요가 있는 1주택 실수요자의 당첨 기회는 상대적으로 감소해요.\n",
      "\n",
      " ★ 주택청약에 관심이 있다면 청약홈의 정보 및 부동산 청약 알림 앱을 설치하여 꾸준한 청약 정보 확인이 필요해요!\n",
      "\n",
      "Q2. 2023 새로워진 청약제도, 주요 내용은?\n",
      "\n",
      "① 전용면적 85㎡이하 주택 청약의 경우\n",
      "기존에는 100% 가점제가 적용되었으나,\n",
      "청약제도 개편으로 2023년 4월 이후 청약 주택의 경우\n",
      "가점제 40%(전용60㎡이하), 70%(전용85㎡이하) 적용돼요.\n",
      "\n",
      "② 국민주택규모(85㎡) 이하 주택의 추첨 물량을 늘리고\n",
      "국민주택규모 초과 주택의 추첨 물량을 줄이는 방향으로 주택청약 제도가 새로워졌어요.\n",
      "\n",
      "★ 지역 및 면적에 따라 선정 비율 등은 다릅니다. 자세한 내용은 PDF 첨부파일을 확인해 주세요.\n",
      "\n",
      "[이창섭 KB국민은행 WM투자솔루션부 부동산전문위원]\n",
      "\n",
      "더 많은 정보가 궁금하다면?\n",
      "\n",
      "이번달 분양일정 확인하기\n",
      "\n",
      "청년우대형 주택청약종합저축 총정리\n",
      "\n",
      "주택청약종합저축 총정리\n",
      "\n",
      "궁금한 부동산\n"
     ]
    }
   ],
   "source": [
    "print(real_estate[48])"
   ]
  }
 ],
 "metadata": {
  "kernelspec": {
   "display_name": "bigdata",
   "language": "python",
   "name": "python3"
  },
  "language_info": {
   "codemirror_mode": {
    "name": "ipython",
    "version": 3
   },
   "file_extension": ".py",
   "mimetype": "text/x-python",
   "name": "python",
   "nbconvert_exporter": "python",
   "pygments_lexer": "ipython3",
   "version": "3.11.4"
  },
  "orig_nbformat": 4
 },
 "nbformat": 4,
 "nbformat_minor": 2
}
